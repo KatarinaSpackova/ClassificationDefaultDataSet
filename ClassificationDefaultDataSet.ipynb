{
 "cells": [
  {
   "cell_type": "markdown",
   "id": "7c0c4d7e",
   "metadata": {},
   "source": [
    "# Week 11 Lab Classification on default and Smarket datasets"
   ]
  },
  {
   "cell_type": "code",
   "execution_count": 1,
   "id": "e5cfd066",
   "metadata": {},
   "outputs": [],
   "source": [
    "import numpy as np\n",
    "import pandas as pd\n",
    "import matplotlib.pyplot as plt"
   ]
  },
  {
   "cell_type": "code",
   "execution_count": 2,
   "id": "9cf32dc8",
   "metadata": {},
   "outputs": [],
   "source": [
    "df_default = pd.read_csv('Default.csv')"
   ]
  },
  {
   "cell_type": "code",
   "execution_count": 3,
   "id": "406bca14",
   "metadata": {},
   "outputs": [
    {
     "data": {
      "text/html": [
       "<div>\n",
       "<style scoped>\n",
       "    .dataframe tbody tr th:only-of-type {\n",
       "        vertical-align: middle;\n",
       "    }\n",
       "\n",
       "    .dataframe tbody tr th {\n",
       "        vertical-align: top;\n",
       "    }\n",
       "\n",
       "    .dataframe thead th {\n",
       "        text-align: right;\n",
       "    }\n",
       "</style>\n",
       "<table border=\"1\" class=\"dataframe\">\n",
       "  <thead>\n",
       "    <tr style=\"text-align: right;\">\n",
       "      <th></th>\n",
       "      <th>Unnamed: 0</th>\n",
       "      <th>default</th>\n",
       "      <th>student</th>\n",
       "      <th>balance</th>\n",
       "      <th>income</th>\n",
       "    </tr>\n",
       "  </thead>\n",
       "  <tbody>\n",
       "    <tr>\n",
       "      <th>0</th>\n",
       "      <td>1</td>\n",
       "      <td>No</td>\n",
       "      <td>No</td>\n",
       "      <td>729.526495</td>\n",
       "      <td>44361.62507</td>\n",
       "    </tr>\n",
       "    <tr>\n",
       "      <th>1</th>\n",
       "      <td>2</td>\n",
       "      <td>No</td>\n",
       "      <td>Yes</td>\n",
       "      <td>817.180407</td>\n",
       "      <td>12106.13470</td>\n",
       "    </tr>\n",
       "    <tr>\n",
       "      <th>2</th>\n",
       "      <td>3</td>\n",
       "      <td>No</td>\n",
       "      <td>No</td>\n",
       "      <td>1073.549164</td>\n",
       "      <td>31767.13895</td>\n",
       "    </tr>\n",
       "    <tr>\n",
       "      <th>3</th>\n",
       "      <td>4</td>\n",
       "      <td>No</td>\n",
       "      <td>No</td>\n",
       "      <td>529.250605</td>\n",
       "      <td>35704.49394</td>\n",
       "    </tr>\n",
       "    <tr>\n",
       "      <th>4</th>\n",
       "      <td>5</td>\n",
       "      <td>No</td>\n",
       "      <td>No</td>\n",
       "      <td>785.655883</td>\n",
       "      <td>38463.49588</td>\n",
       "    </tr>\n",
       "  </tbody>\n",
       "</table>\n",
       "</div>"
      ],
      "text/plain": [
       "   Unnamed: 0 default student      balance       income\n",
       "0           1      No      No   729.526495  44361.62507\n",
       "1           2      No     Yes   817.180407  12106.13470\n",
       "2           3      No      No  1073.549164  31767.13895\n",
       "3           4      No      No   529.250605  35704.49394\n",
       "4           5      No      No   785.655883  38463.49588"
      ]
     },
     "execution_count": 3,
     "metadata": {},
     "output_type": "execute_result"
    }
   ],
   "source": [
    "df_default.head()"
   ]
  },
  {
   "cell_type": "code",
   "execution_count": 4,
   "id": "e66a9cd2",
   "metadata": {},
   "outputs": [],
   "source": [
    "df_default['default0'] = df_default['default'].factorize()[0]"
   ]
  },
  {
   "cell_type": "code",
   "execution_count": 6,
   "id": "d2603355",
   "metadata": {},
   "outputs": [
    {
     "data": {
      "text/html": [
       "<div>\n",
       "<style scoped>\n",
       "    .dataframe tbody tr th:only-of-type {\n",
       "        vertical-align: middle;\n",
       "    }\n",
       "\n",
       "    .dataframe tbody tr th {\n",
       "        vertical-align: top;\n",
       "    }\n",
       "\n",
       "    .dataframe thead th {\n",
       "        text-align: right;\n",
       "    }\n",
       "</style>\n",
       "<table border=\"1\" class=\"dataframe\">\n",
       "  <thead>\n",
       "    <tr style=\"text-align: right;\">\n",
       "      <th></th>\n",
       "      <th>Unnamed: 0</th>\n",
       "      <th>default</th>\n",
       "      <th>student</th>\n",
       "      <th>balance</th>\n",
       "      <th>income</th>\n",
       "      <th>default0</th>\n",
       "    </tr>\n",
       "  </thead>\n",
       "  <tbody>\n",
       "    <tr>\n",
       "      <th>0</th>\n",
       "      <td>1</td>\n",
       "      <td>No</td>\n",
       "      <td>No</td>\n",
       "      <td>729.526495</td>\n",
       "      <td>44361.62507</td>\n",
       "      <td>0</td>\n",
       "    </tr>\n",
       "    <tr>\n",
       "      <th>1</th>\n",
       "      <td>2</td>\n",
       "      <td>No</td>\n",
       "      <td>Yes</td>\n",
       "      <td>817.180407</td>\n",
       "      <td>12106.13470</td>\n",
       "      <td>0</td>\n",
       "    </tr>\n",
       "    <tr>\n",
       "      <th>2</th>\n",
       "      <td>3</td>\n",
       "      <td>No</td>\n",
       "      <td>No</td>\n",
       "      <td>1073.549164</td>\n",
       "      <td>31767.13895</td>\n",
       "      <td>0</td>\n",
       "    </tr>\n",
       "    <tr>\n",
       "      <th>3</th>\n",
       "      <td>4</td>\n",
       "      <td>No</td>\n",
       "      <td>No</td>\n",
       "      <td>529.250605</td>\n",
       "      <td>35704.49394</td>\n",
       "      <td>0</td>\n",
       "    </tr>\n",
       "    <tr>\n",
       "      <th>4</th>\n",
       "      <td>5</td>\n",
       "      <td>No</td>\n",
       "      <td>No</td>\n",
       "      <td>785.655883</td>\n",
       "      <td>38463.49588</td>\n",
       "      <td>0</td>\n",
       "    </tr>\n",
       "  </tbody>\n",
       "</table>\n",
       "</div>"
      ],
      "text/plain": [
       "   Unnamed: 0 default student      balance       income  default0\n",
       "0           1      No      No   729.526495  44361.62507         0\n",
       "1           2      No     Yes   817.180407  12106.13470         0\n",
       "2           3      No      No  1073.549164  31767.13895         0\n",
       "3           4      No      No   529.250605  35704.49394         0\n",
       "4           5      No      No   785.655883  38463.49588         0"
      ]
     },
     "execution_count": 6,
     "metadata": {},
     "output_type": "execute_result"
    }
   ],
   "source": [
    "df_default.head()"
   ]
  },
  {
   "cell_type": "markdown",
   "id": "61983973",
   "metadata": {},
   "source": [
    "## Exercise 1 How many data are default positive and negative?"
   ]
  },
  {
   "cell_type": "code",
   "execution_count": 13,
   "id": "8b2409b9",
   "metadata": {},
   "outputs": [],
   "source": [
    "list_default = list(df_default[\"default\"].values)\n",
    "#list_default"
   ]
  },
  {
   "cell_type": "code",
   "execution_count": null,
   "id": "4cbea255",
   "metadata": {},
   "outputs": [],
   "source": [
    "list_default.unique()"
   ]
  },
  {
   "cell_type": "code",
   "execution_count": 14,
   "id": "e50d73ed",
   "metadata": {},
   "outputs": [
    {
     "data": {
      "text/plain": [
       "9667"
      ]
     },
     "execution_count": 14,
     "metadata": {},
     "output_type": "execute_result"
    }
   ],
   "source": [
    "list_default.count('No')"
   ]
  },
  {
   "cell_type": "code",
   "execution_count": 16,
   "id": "62b05d3b",
   "metadata": {},
   "outputs": [
    {
     "data": {
      "text/plain": [
       "333"
      ]
     },
     "execution_count": 16,
     "metadata": {},
     "output_type": "execute_result"
    }
   ],
   "source": [
    "list_default.count('Yes')"
   ]
  },
  {
   "cell_type": "code",
   "execution_count": 17,
   "id": "fc98c0e1",
   "metadata": {},
   "outputs": [
    {
     "data": {
      "text/plain": [
       "{'No', 'Yes'}"
      ]
     },
     "execution_count": 17,
     "metadata": {},
     "output_type": "execute_result"
    }
   ],
   "source": [
    "set(list_default)"
   ]
  },
  {
   "cell_type": "markdown",
   "id": "cbef29f7",
   "metadata": {},
   "source": [
    "## Split the data into training and test subsets"
   ]
  },
  {
   "cell_type": "code",
   "execution_count": 47,
   "id": "f4e7c244",
   "metadata": {},
   "outputs": [],
   "source": [
    "from sklearn.model_selection import train_test_split\n",
    "\n",
    "x_data = df_default['balance'].values.reshape(-1,1)\n",
    "y_data = df_default['default0'].values.reshape(-1,1)\n",
    "\n",
    "x_train, x_test, y_train, y_test = train_test_split(x_data, y_data, test_size=0.3, random_state=23)"
   ]
  },
  {
   "cell_type": "code",
   "execution_count": 48,
   "id": "4ae795ef",
   "metadata": {},
   "outputs": [],
   "source": [
    "from sklearn.linear_model import LogisticRegression\n",
    "\n",
    "model1 = LogisticRegression()"
   ]
  },
  {
   "cell_type": "code",
   "execution_count": 49,
   "id": "94213b58",
   "metadata": {},
   "outputs": [
    {
     "name": "stderr",
     "output_type": "stream",
     "text": [
      "/Users/katarinaspackova/opt/anaconda3/lib/python3.8/site-packages/sklearn/utils/validation.py:73: DataConversionWarning: A column-vector y was passed when a 1d array was expected. Please change the shape of y to (n_samples, ), for example using ravel().\n",
      "  return f(**kwargs)\n"
     ]
    },
    {
     "data": {
      "text/plain": [
       "LogisticRegression()"
      ]
     },
     "execution_count": 49,
     "metadata": {},
     "output_type": "execute_result"
    }
   ],
   "source": [
    "model1.fit(x_train, y_train)"
   ]
  },
  {
   "cell_type": "code",
   "execution_count": 50,
   "id": "01ddd744",
   "metadata": {},
   "outputs": [],
   "source": [
    "from sklearn.metrics import accuracy_score"
   ]
  },
  {
   "cell_type": "code",
   "execution_count": 51,
   "id": "d7ea8b65",
   "metadata": {},
   "outputs": [
    {
     "data": {
      "text/plain": [
       "0.9725714285714285"
      ]
     },
     "execution_count": 51,
     "metadata": {},
     "output_type": "execute_result"
    }
   ],
   "source": [
    "accuracy_score(model1.predict(x_train),y_train) #training accuracy"
   ]
  },
  {
   "cell_type": "code",
   "execution_count": 52,
   "id": "0b075a4b",
   "metadata": {},
   "outputs": [
    {
     "data": {
      "text/plain": [
       "0.9716666666666667"
      ]
     },
     "execution_count": 52,
     "metadata": {},
     "output_type": "execute_result"
    }
   ],
   "source": [
    "accuracy_score(model1.predict(x_test),y_test) #test accuracy"
   ]
  },
  {
   "cell_type": "code",
   "execution_count": null,
   "id": "0ca22688",
   "metadata": {},
   "outputs": [],
   "source": []
  },
  {
   "cell_type": "markdown",
   "id": "a3736a90",
   "metadata": {},
   "source": [
    "## Ex2. Comparing the predictions against the truth: true positive, true negative, false positive, false negatiave"
   ]
  },
  {
   "cell_type": "code",
   "execution_count": 59,
   "id": "1bcffee2",
   "metadata": {},
   "outputs": [],
   "source": [
    "pred_test = model1.predict(x_test)\n",
    "compare_test = []\n",
    "\n",
    "for i in range(len(pred_test)):\n",
    "    \n",
    "    t = y_test[i]\n",
    "    p = pred_test[i]\n",
    "    \n",
    "    if t*p == 1:\n",
    "        compare_test.append(\"TP\")\n",
    "    elif t*p == 0:\n",
    "        compare_test.append(\"TN\")\n",
    "    elif p == 1:\n",
    "        compare_test.append(\"FP\")\n",
    "    else:\n",
    "        compare_test.append(\"FN\")   \n",
    "\n"
   ]
  },
  {
   "cell_type": "code",
   "execution_count": 60,
   "id": "dbf2d28b",
   "metadata": {},
   "outputs": [
    {
     "data": {
      "text/plain": [
       "31"
      ]
     },
     "execution_count": 60,
     "metadata": {},
     "output_type": "execute_result"
    }
   ],
   "source": [
    "compare_test.count('TP')"
   ]
  },
  {
   "cell_type": "code",
   "execution_count": 61,
   "id": "9e13fad1",
   "metadata": {},
   "outputs": [
    {
     "data": {
      "text/plain": [
       "2969"
      ]
     },
     "execution_count": 61,
     "metadata": {},
     "output_type": "execute_result"
    }
   ],
   "source": [
    "compare_test.count('TN')"
   ]
  },
  {
   "cell_type": "code",
   "execution_count": 62,
   "id": "a6586c2a",
   "metadata": {},
   "outputs": [
    {
     "data": {
      "text/plain": [
       "0"
      ]
     },
     "execution_count": 62,
     "metadata": {},
     "output_type": "execute_result"
    }
   ],
   "source": [
    "compare_test.count('FP')"
   ]
  },
  {
   "cell_type": "code",
   "execution_count": 63,
   "id": "5682bd5d",
   "metadata": {},
   "outputs": [
    {
     "data": {
      "text/plain": [
       "0"
      ]
     },
     "execution_count": 63,
     "metadata": {},
     "output_type": "execute_result"
    }
   ],
   "source": [
    "compare_test.count('FN')"
   ]
  },
  {
   "cell_type": "code",
   "execution_count": 64,
   "id": "cd824157",
   "metadata": {},
   "outputs": [
    {
     "data": {
      "text/plain": [
       "3000"
      ]
     },
     "execution_count": 64,
     "metadata": {},
     "output_type": "execute_result"
    }
   ],
   "source": [
    "len(compare_test)"
   ]
  },
  {
   "cell_type": "code",
   "execution_count": null,
   "id": "b622997d",
   "metadata": {},
   "outputs": [],
   "source": []
  },
  {
   "cell_type": "code",
   "execution_count": 76,
   "id": "f0a838cc",
   "metadata": {},
   "outputs": [],
   "source": [
    "def report_accuracy(compare_test):\n",
    "    return (compare_test.count('TP')+compare_test.count('TN'))/len(compare_test)"
   ]
  },
  {
   "cell_type": "code",
   "execution_count": 78,
   "id": "799c75e0",
   "metadata": {},
   "outputs": [
    {
     "data": {
      "text/plain": [
       "1.0"
      ]
     },
     "execution_count": 78,
     "metadata": {},
     "output_type": "execute_result"
    }
   ],
   "source": [
    "report_accuracy(compare_test)"
   ]
  },
  {
   "cell_type": "code",
   "execution_count": null,
   "id": "e9eac991",
   "metadata": {},
   "outputs": [],
   "source": []
  },
  {
   "cell_type": "code",
   "execution_count": 83,
   "id": "c2640054",
   "metadata": {},
   "outputs": [],
   "source": [
    "from sklearn.metrics import confusion_matrix, classification_report, precision_score"
   ]
  },
  {
   "cell_type": "code",
   "execution_count": 44,
   "id": "f85126d5",
   "metadata": {},
   "outputs": [
    {
     "name": "stdout",
     "output_type": "stream",
     "text": [
      "[[2884   16]\n",
      " [  69   31]]\n"
     ]
    }
   ],
   "source": [
    "print(confusion_matrix(y_test, pred_test))"
   ]
  },
  {
   "cell_type": "code",
   "execution_count": 86,
   "id": "2f06d4eb",
   "metadata": {},
   "outputs": [
    {
     "name": "stdout",
     "output_type": "stream",
     "text": [
      "              precision    recall  f1-score   support\n",
      "\n",
      "           0       0.98      0.99      0.99      2900\n",
      "           1       0.66      0.31      0.42       100\n",
      "\n",
      "    accuracy                           0.97      3000\n",
      "   macro avg       0.82      0.65      0.70      3000\n",
      "weighted avg       0.97      0.97      0.97      3000\n",
      "\n"
     ]
    }
   ],
   "source": [
    "print(classification_report(y_test, pred_test))"
   ]
  },
  {
   "cell_type": "code",
   "execution_count": 87,
   "id": "36023de8",
   "metadata": {},
   "outputs": [
    {
     "data": {
      "text/plain": [
       "0.31"
      ]
     },
     "execution_count": 87,
     "metadata": {},
     "output_type": "execute_result"
    }
   ],
   "source": [
    "# TP/(TP+FN)\n",
    "\n",
    "31/(31+69)"
   ]
  },
  {
   "cell_type": "code",
   "execution_count": 88,
   "id": "93970b6a",
   "metadata": {},
   "outputs": [
    {
     "data": {
      "text/plain": [
       "0.6595744680851063"
      ]
     },
     "execution_count": 88,
     "metadata": {},
     "output_type": "execute_result"
    }
   ],
   "source": [
    "# TP/(TP+FP)\n",
    "\n",
    "31/(31+16)"
   ]
  },
  {
   "cell_type": "code",
   "execution_count": 48,
   "id": "e48f907e",
   "metadata": {},
   "outputs": [
    {
     "data": {
      "text/plain": [
       "0.9944827586206897"
      ]
     },
     "execution_count": 48,
     "metadata": {},
     "output_type": "execute_result"
    }
   ],
   "source": [
    "# TN/(TN+FP)\n",
    "\n",
    "2884/(2884+16)"
   ]
  },
  {
   "cell_type": "code",
   "execution_count": 49,
   "id": "47388f20",
   "metadata": {},
   "outputs": [
    {
     "data": {
      "text/plain": [
       "0.9766339315949881"
      ]
     },
     "execution_count": 49,
     "metadata": {},
     "output_type": "execute_result"
    }
   ],
   "source": [
    "# TN/(TN+FN)\n",
    "\n",
    "2884/(2884+69)"
   ]
  },
  {
   "cell_type": "markdown",
   "id": "fec25226",
   "metadata": {},
   "source": [
    "## LDA"
   ]
  },
  {
   "cell_type": "code",
   "execution_count": 89,
   "id": "3567cfb8",
   "metadata": {},
   "outputs": [],
   "source": [
    "from sklearn.discriminant_analysis import LinearDiscriminantAnalysis"
   ]
  },
  {
   "cell_type": "code",
   "execution_count": 90,
   "id": "1d51ddb9",
   "metadata": {},
   "outputs": [],
   "source": [
    "model2 = LinearDiscriminantAnalysis()"
   ]
  },
  {
   "cell_type": "code",
   "execution_count": 91,
   "id": "5b7dd889",
   "metadata": {},
   "outputs": [
    {
     "name": "stderr",
     "output_type": "stream",
     "text": [
      "/Users/katarinaspackova/opt/anaconda3/lib/python3.8/site-packages/sklearn/utils/validation.py:73: DataConversionWarning: A column-vector y was passed when a 1d array was expected. Please change the shape of y to (n_samples, ), for example using ravel().\n",
      "  return f(**kwargs)\n"
     ]
    },
    {
     "data": {
      "text/plain": [
       "LinearDiscriminantAnalysis()"
      ]
     },
     "execution_count": 91,
     "metadata": {},
     "output_type": "execute_result"
    }
   ],
   "source": [
    "model2.fit(x_train, y_train)"
   ]
  },
  {
   "cell_type": "code",
   "execution_count": 92,
   "id": "d29c316c",
   "metadata": {},
   "outputs": [],
   "source": [
    "pred_test = model2.predict(x_test)"
   ]
  },
  {
   "cell_type": "code",
   "execution_count": 93,
   "id": "91dac0c3",
   "metadata": {},
   "outputs": [
    {
     "name": "stdout",
     "output_type": "stream",
     "text": [
      "              precision    recall  f1-score   support\n",
      "\n",
      "           0       0.97      1.00      0.99      2900\n",
      "           1       0.71      0.22      0.34       100\n",
      "\n",
      "    accuracy                           0.97      3000\n",
      "   macro avg       0.84      0.61      0.66      3000\n",
      "weighted avg       0.96      0.97      0.96      3000\n",
      "\n"
     ]
    }
   ],
   "source": [
    "print(classification_report(y_test, pred_test))"
   ]
  },
  {
   "cell_type": "markdown",
   "id": "112b9acf",
   "metadata": {},
   "source": [
    "## Ex3. Breaking down the number of TP, TN, FP, and FN in the test prediction"
   ]
  },
  {
   "cell_type": "code",
   "execution_count": 62,
   "id": "4176eb41",
   "metadata": {},
   "outputs": [
    {
     "data": {
      "text/plain": [
       "array([[ 800.4496797 ],\n",
       "       [1744.60639557]])"
      ]
     },
     "execution_count": 62,
     "metadata": {},
     "output_type": "execute_result"
    }
   ],
   "source": [
    "model2.means_"
   ]
  },
  {
   "cell_type": "code",
   "execution_count": 64,
   "id": "d6d205b8",
   "metadata": {},
   "outputs": [
    {
     "data": {
      "text/plain": [
       "array([0.96671429, 0.03328571])"
      ]
     },
     "execution_count": 64,
     "metadata": {},
     "output_type": "execute_result"
    }
   ],
   "source": [
    "model2.priors_"
   ]
  },
  {
   "cell_type": "code",
   "execution_count": 66,
   "id": "d912b8ae",
   "metadata": {},
   "outputs": [
    {
     "data": {
      "text/plain": [
       "array([[0.00221212]])"
      ]
     },
     "execution_count": 66,
     "metadata": {},
     "output_type": "execute_result"
    }
   ],
   "source": [
    "model2.scalings_"
   ]
  },
  {
   "cell_type": "markdown",
   "id": "d24e807d",
   "metadata": {},
   "source": [
    "## QDA"
   ]
  },
  {
   "cell_type": "code",
   "execution_count": 55,
   "id": "20a278fa",
   "metadata": {},
   "outputs": [],
   "source": [
    "from sklearn.discriminant_analysis import QuadraticDiscriminantAnalysis"
   ]
  },
  {
   "cell_type": "code",
   "execution_count": 56,
   "id": "dcb6a0ac",
   "metadata": {},
   "outputs": [],
   "source": [
    "model3 = QuadraticDiscriminantAnalysis()"
   ]
  },
  {
   "cell_type": "code",
   "execution_count": 57,
   "id": "4cc07528",
   "metadata": {},
   "outputs": [
    {
     "name": "stderr",
     "output_type": "stream",
     "text": [
      "/Users/felix/anaconda3/lib/python3.6/site-packages/sklearn/utils/validation.py:63: DataConversionWarning: A column-vector y was passed when a 1d array was expected. Please change the shape of y to (n_samples, ), for example using ravel().\n",
      "  return f(*args, **kwargs)\n"
     ]
    },
    {
     "data": {
      "text/plain": [
       "QuadraticDiscriminantAnalysis()"
      ]
     },
     "execution_count": 57,
     "metadata": {},
     "output_type": "execute_result"
    }
   ],
   "source": [
    "model3.fit(x_train, y_train)"
   ]
  },
  {
   "cell_type": "code",
   "execution_count": 58,
   "id": "bbf2385f",
   "metadata": {},
   "outputs": [],
   "source": [
    "pred_test = model3.predict(x_test)"
   ]
  },
  {
   "cell_type": "code",
   "execution_count": 59,
   "id": "4ea8afe5",
   "metadata": {},
   "outputs": [
    {
     "name": "stdout",
     "output_type": "stream",
     "text": [
      "              precision    recall  f1-score   support\n",
      "\n",
      "           0       0.98      1.00      0.99      2900\n",
      "           1       0.74      0.28      0.41       100\n",
      "\n",
      "    accuracy                           0.97      3000\n",
      "   macro avg       0.86      0.64      0.70      3000\n",
      "weighted avg       0.97      0.97      0.97      3000\n",
      "\n"
     ]
    }
   ],
   "source": [
    "print(classification_report(y_test, pred_test))"
   ]
  },
  {
   "cell_type": "code",
   "execution_count": 60,
   "id": "602dabc8",
   "metadata": {},
   "outputs": [
    {
     "data": {
      "text/plain": [
       "{'priors': None, 'reg_param': 0.0, 'store_covariance': False, 'tol': 0.0001}"
      ]
     },
     "execution_count": 60,
     "metadata": {},
     "output_type": "execute_result"
    }
   ],
   "source": [
    "model3.get_params(deep=True)"
   ]
  },
  {
   "cell_type": "code",
   "execution_count": 67,
   "id": "b14bee27",
   "metadata": {},
   "outputs": [
    {
     "data": {
      "text/plain": [
       "array([[ 800.4496797 ],\n",
       "       [1744.60639557]])"
      ]
     },
     "execution_count": 67,
     "metadata": {},
     "output_type": "execute_result"
    }
   ],
   "source": [
    "model3.means_"
   ]
  },
  {
   "cell_type": "code",
   "execution_count": 68,
   "id": "d2b41b01",
   "metadata": {},
   "outputs": [
    {
     "data": {
      "text/plain": [
       "array([0.96671429, 0.03328571])"
      ]
     },
     "execution_count": 68,
     "metadata": {},
     "output_type": "execute_result"
    }
   ],
   "source": [
    "model3.priors_"
   ]
  },
  {
   "cell_type": "code",
   "execution_count": 69,
   "id": "90d2157f",
   "metadata": {},
   "outputs": [
    {
     "data": {
      "text/plain": [
       "[array([207293.60733296]), array([118636.405108])]"
      ]
     },
     "execution_count": 69,
     "metadata": {},
     "output_type": "execute_result"
    }
   ],
   "source": [
    "model3.scalings_"
   ]
  },
  {
   "cell_type": "markdown",
   "id": "05dd992c",
   "metadata": {},
   "source": [
    "## Verifying these model parameters"
   ]
  },
  {
   "cell_type": "code",
   "execution_count": 109,
   "id": "e046fc7a",
   "metadata": {},
   "outputs": [],
   "source": [
    "balance_0 = []\n",
    "balance_1 = []\n",
    "for balance, default in zip(x_train, y_train):\n",
    "    if default == 0:\n",
    "        balance_0.append(balance)\n",
    "    else:\n",
    "        balance_1.append(balance)\n",
    "\n",
    "\n"
   ]
  },
  {
   "cell_type": "code",
   "execution_count": 73,
   "id": "59ed35de",
   "metadata": {},
   "outputs": [
    {
     "data": {
      "text/plain": [
       "800.4496797022787"
      ]
     },
     "execution_count": 73,
     "metadata": {},
     "output_type": "execute_result"
    }
   ],
   "source": [
    "np.mean(balance_0)"
   ]
  },
  {
   "cell_type": "code",
   "execution_count": 74,
   "id": "75d3cab1",
   "metadata": {},
   "outputs": [
    {
     "data": {
      "text/plain": [
       "207262.97431872596"
      ]
     },
     "execution_count": 74,
     "metadata": {},
     "output_type": "execute_result"
    }
   ],
   "source": [
    "np.var(balance_0)"
   ]
  },
  {
   "cell_type": "code",
   "execution_count": 76,
   "id": "1dab46a6",
   "metadata": {},
   "outputs": [
    {
     "data": {
      "text/plain": [
       "1744.606395574249"
      ]
     },
     "execution_count": 76,
     "metadata": {},
     "output_type": "execute_result"
    }
   ],
   "source": [
    "np.mean(balance_1)"
   ]
  },
  {
   "cell_type": "code",
   "execution_count": 77,
   "id": "1351026f",
   "metadata": {},
   "outputs": [
    {
     "data": {
      "text/plain": [
       "118127.23598736682"
      ]
     },
     "execution_count": 77,
     "metadata": {},
     "output_type": "execute_result"
    }
   ],
   "source": [
    "np.var(balance_1)"
   ]
  },
  {
   "cell_type": "code",
   "execution_count": 79,
   "id": "b9d45619",
   "metadata": {},
   "outputs": [
    {
     "data": {
      "text/plain": [
       "0.9667142857142857"
      ]
     },
     "execution_count": 79,
     "metadata": {},
     "output_type": "execute_result"
    }
   ],
   "source": [
    "len(balance_0)/len(x_train)"
   ]
  },
  {
   "cell_type": "code",
   "execution_count": 80,
   "id": "ef8df73d",
   "metadata": {},
   "outputs": [
    {
     "data": {
      "text/plain": [
       "0.03328571428571429"
      ]
     },
     "execution_count": 80,
     "metadata": {},
     "output_type": "execute_result"
    }
   ],
   "source": [
    "len(balance_1)/len(x_train)"
   ]
  },
  {
   "cell_type": "markdown",
   "id": "173219bf",
   "metadata": {},
   "source": [
    "## Visualization"
   ]
  },
  {
   "cell_type": "code",
   "execution_count": 7,
   "id": "2561e8e3",
   "metadata": {},
   "outputs": [],
   "source": [
    "balance_default = df_default.loc[df_default['default0'].values==1].balance.values\n",
    "balance_nondefault = df_default.loc[df_default['default0'].values==0].balance.values"
   ]
  },
  {
   "cell_type": "code",
   "execution_count": 8,
   "id": "ac6f1f68",
   "metadata": {},
   "outputs": [
    {
     "data": {
      "text/plain": [
       "<AxesSubplot:ylabel='Count'>"
      ]
     },
     "execution_count": 8,
     "metadata": {},
     "output_type": "execute_result"
    },
    {
     "data": {
      "image/png": "[encoded data removed]",
      "text/plain": [
       "<Figure size 432x288 with 1 Axes>"
      ]
     },
     "metadata": {
      "needs_background": "light"
     },
     "output_type": "display_data"
    }
   ],
   "source": [
    "import seaborn as sns\n",
    "\n",
    "sns.histplot(balance_nondefault, kde=True, color='b')\n",
    "sns.histplot(balance_default, kde=True,color='r')"
   ]
  },
  {
   "cell_type": "code",
   "execution_count": null,
   "id": "6fc3339a",
   "metadata": {},
   "outputs": [],
   "source": []
  }
 ],
 "metadata": {
  "kernelspec": {
   "display_name": "Python 3",
   "language": "python",
   "name": "python3"
  },
  "language_info": {
   "codemirror_mode": {
    "name": "ipython",
    "version": 3
   },
   "file_extension": ".py",
   "mimetype": "text/x-python",
   "name": "python",
   "nbconvert_exporter": "python",
   "pygments_lexer": "ipython3",
   "version": "3.8.8"
  }
 },
 "nbformat": 4,
 "nbformat_minor": 5
}
